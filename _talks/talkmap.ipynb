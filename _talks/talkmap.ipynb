{
 "cells": [
  {
   "cell_type": "markdown",
   "metadata": {},
   "source": [
    "# Leaflet cluster map of talk locations\n",
    "\n",
    "Run this from the _talks/ directory, which contains .md files of all your talks. This scrapes the location YAML field from each .md file, geolocates it with geopy/Nominatim, and uses the getorg library to output data, HTML, and Javascript for a standalone cluster map."
   ]
  },
  {
   "cell_type": "code",
   "execution_count": 1,
   "metadata": {},
   "outputs": [
    {
     "name": "stdout",
     "output_type": "stream",
     "text": [
      "Collecting getorg\n",
      "  Using cached getorg-0.3.1-py2.py3-none-any.whl\n",
      "Collecting retrying (from getorg)\n",
      "Collecting geopy (from getorg)\n",
      "  Using cached geopy-1.11.0-py2.py3-none-any.whl\n",
      "Collecting pygithub (from getorg)\n",
      "  Using cached PyGithub-1.35.tar.gz\n",
      "Requirement already up-to-date: six>=1.7.0 in /usr/local/lib/python3.6/site-packages (from retrying->getorg)\n",
      "Collecting pyjwt (from pygithub->getorg)\n",
      "  Using cached PyJWT-1.5.2-py2.py3-none-any.whl\n",
      "Building wheels for collected packages: pygithub\n",
      "  Running setup.py bdist_wheel for pygithub ... \u001b[?25ldone\n",
      "\u001b[?25h  Stored in directory: /Users/U8004755/Library/Caches/pip/wheels/16/ac/6a/9489745d921b8eb7abea30391885fa17ac44caedea3977459b\n",
      "Successfully built pygithub\n",
      "Installing collected packages: retrying, geopy, pyjwt, pygithub, getorg\n",
      "Successfully installed geopy-1.11.0 getorg-0.3.1 pygithub-1.35 pyjwt-1.5.2 retrying-1.3.3\n",
      "Iywidgets and ipyleaflet support disabled. You must be in a Jupyter notebook to use this feature.\n",
      "Error raised:\n",
      "No module named 'ipyleaflet'\n",
      "Check that you have enabled ipyleaflet in Jupyter with:\n",
      "    jupyter nbextension enable --py ipyleaflet\n"
     ]
    }
   ],
   "source": [
    "!pip3 install getorg --upgrade\n",
    "import glob\n",
    "import getorg\n",
    "from geopy import Nominatim"
   ]
  },
  {
   "cell_type": "code",
   "execution_count": 2,
   "metadata": {
    "collapsed": true
   },
   "outputs": [],
   "source": [
    "g = glob.glob(\"*.md\")"
   ]
  },
  {
   "cell_type": "code",
   "execution_count": 3,
   "metadata": {
    "collapsed": true
   },
   "outputs": [],
   "source": [
    "geocoder = Nominatim()\n",
    "location_dict = {}\n",
    "location = \"\"\n",
    "permalink = \"\"\n",
    "title = \"\""
   ]
  },
  {
   "cell_type": "code",
   "execution_count": 4,
   "metadata": {},
   "outputs": [
    {
     "name": "stdout",
     "output_type": "stream",
     "text": [
      "Geneva, NY, USA \n",
      " Geneva, Geneva Town, Ontario County, New York, United States of America\n",
      "New York, New York, USA \n",
      " NYC, New York, United States of America\n",
      "Providence, Rhode Island, USA \n",
      " Providence, Rhode Island, United States of America\n",
      "Auckland, New Zealand \n",
      " Auckland, New Zealand/Aotearoa\n",
      "Sydney, New South Wales, Australia \n",
      " Sydney, NSW, Australia\n",
      "Los Baños, Calabarzon, Philippines \n",
      " Los Baños, Laguna, Calabarzon, Philippines\n",
      "Beijing, China \n",
      " 北京市, 东城区, 北京市, 100010, 中国\n",
      "Raipur, Chhattisgarh, India \n",
      " Raipur, Chhattisgarh, 493332, India\n",
      "Ho Chi Minh City, Vietnam \n",
      " Tp HCM, Việt Nam\n",
      "Bangkok, Thailand \n",
      " กรุงเทพมหานคร, เขตพระนคร, กรุงเทพมหานคร, 10200, ประเทศไทย\n",
      "Fremantle, Western Australia, Australia \n",
      " Fremantle, Phillimore Street, North Fremantle, Fremantle, Western Australia, Australia\n",
      "Pyeongchang, Gangwon-do, Korea \n",
      " 평창군, 평창군 (Pyeongchang-gun), 강원, 대한민국\n",
      "Jondaryan, Queensland, Australia \n",
      " Jondaryan, QLD, Australia\n"
     ]
    }
   ],
   "source": [
    "\n",
    "for file in g:\n",
    "    with open(file, 'r') as f:\n",
    "        lines = f.read()\n",
    "        if lines.find('location: \"') > 1:\n",
    "            loc_start = lines.find('location: \"') + 11\n",
    "            lines_trim = lines[loc_start:]\n",
    "            loc_end = lines_trim.find('\"')\n",
    "            location = lines_trim[:loc_end]\n",
    "                            \n",
    "           \n",
    "        location_dict[location] = geocoder.geocode(location)\n",
    "        print(location, \"\\n\", location_dict[location])\n"
   ]
  },
  {
   "cell_type": "code",
   "execution_count": 5,
   "metadata": {},
   "outputs": [
    {
     "data": {
      "text/plain": [
       "'Written map to ../talkmap/'"
      ]
     },
     "execution_count": 5,
     "metadata": {},
     "output_type": "execute_result"
    }
   ],
   "source": [
    "m = getorg.orgmap.create_map_obj()\n",
    "getorg.orgmap.output_html_cluster_map(location_dict, folder_name=\"../talkmap\", hashed_usernames=False)"
   ]
  },
  {
   "cell_type": "code",
   "execution_count": null,
   "metadata": {
    "collapsed": true
   },
   "outputs": [],
   "source": []
  }
 ],
 "metadata": {
  "anaconda-cloud": {},
  "kernelspec": {
   "display_name": "Python 3",
   "language": "python",
   "name": "python3"
  },
  "language_info": {
   "codemirror_mode": {
    "name": "ipython",
    "version": 3
   },
   "file_extension": ".py",
   "mimetype": "text/x-python",
   "name": "python",
   "nbconvert_exporter": "python",
   "pygments_lexer": "ipython3",
   "version": "3.6.2"
  }
 },
 "nbformat": 4,
 "nbformat_minor": 1
}
