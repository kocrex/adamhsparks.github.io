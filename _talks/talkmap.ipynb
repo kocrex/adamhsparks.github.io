{
 "cells": [
  {
   "cell_type": "markdown",
   "metadata": {},
   "source": [
    "# Leaflet cluster map of talk locations\n",
    "\n",
    "Run this from the _talks/ directory, which contains .md files of all your talks. This scrapes the location YAML field from each .md file, geolocates it with geopy/Nominatim, and uses the getorg library to output data, HTML, and Javascript for a standalone cluster map."
   ]
  },
  {
   "cell_type": "code",
   "execution_count": 1,
   "metadata": {},
   "outputs": [
    {
     "name": "stdout",
     "output_type": "stream",
     "text": [
      "Requirement already up-to-date: getorg in /usr/local/lib/python2.7/site-packages\n",
      "Requirement already up-to-date: pygithub in /usr/local/lib/python2.7/site-packages (from getorg)\n",
      "Requirement already up-to-date: geopy in /usr/local/lib/python2.7/site-packages (from getorg)\n",
      "Requirement already up-to-date: retrying in /usr/local/lib/python2.7/site-packages (from getorg)\n",
      "Requirement already up-to-date: pyjwt in /usr/local/lib/python2.7/site-packages (from pygithub->getorg)\n",
      "Requirement already up-to-date: six>=1.7.0 in /usr/local/lib/python2.7/site-packages (from retrying->getorg)\n",
      "IPywidgets and ipyleaflet support enabled.\n"
     ]
    }
   ],
   "source": [
    "!pip install getorg --upgrade\n",
    "import glob\n",
    "import getorg\n",
    "from geopy import Nominatim"
   ]
  },
  {
   "cell_type": "code",
   "execution_count": 2,
   "metadata": {
    "collapsed": true
   },
   "outputs": [],
   "source": [
    "g = glob.glob(\"*.md\")"
   ]
  },
  {
   "cell_type": "code",
   "execution_count": 3,
   "metadata": {
    "collapsed": true
   },
   "outputs": [],
   "source": [
    "geocoder = Nominatim()\n",
    "location_dict = {}\n",
    "location = \"\"\n",
    "permalink = \"\"\n",
    "title = \"\""
   ]
  },
  {
   "cell_type": "code",
   "execution_count": 5,
   "metadata": {},
   "outputs": [
    {
     "name": "stdout",
     "output_type": "stream",
     "text": [
      "('Geneva, NY, USA', '\\n', Location((42.8689552, -76.9777435, 0.0)))\n",
      "('Providence, Rhode Island', '\\n', Location((41.8239891, -71.4128342, 0.0)))\n",
      "('Auckland, New Zealand', '\\n', Location((-36.8534664, 174.7655514, 0.0)))\n",
      "('Beijing, China', '\\n', Location((39.9059631, 116.391248, 0.0)))\n",
      "('Raipur, Chhattisgarh, India', '\\n', Location((21.2379468, 81.6336833, 0.0)))\n",
      "('Ho Chi Minh City, Vietnam', '\\n', Location((10.7758439, 106.7017555, 0.0)))\n",
      "('Bangkok, Thailand', '\\n', Location((13.7538929, 100.8160803, 0.0)))\n",
      "('Fremantle, WA, Australia', '\\n', Location((-32.0520329, 115.74527, 0.0)))\n",
      "('Pyeongchang, Gangwon-do, Korea', '\\n', Location((37.5511821, 128.4471608, 0.0)))\n"
     ]
    }
   ],
   "source": [
    "\n",
    "for file in g:\n",
    "    with open(file, 'r') as f:\n",
    "        lines = f.read()\n",
    "        if lines.find('location: \"') > 1:\n",
    "            loc_start = lines.find('location: \"') + 11\n",
    "            lines_trim = lines[loc_start:]\n",
    "            loc_end = lines_trim.find('\"')\n",
    "            location = lines_trim[:loc_end]\n",
    "                            \n",
    "           \n",
    "        location_dict[location] = geocoder.geocode(location)\n",
    "        print(location, \"\\n\", location_dict[location])\n"
   ]
  },
  {
   "cell_type": "code",
   "execution_count": 13,
   "metadata": {},
   "outputs": [
    {
     "data": {
      "text/plain": [
       "'Written map to ../talkmap/'"
      ]
     },
     "execution_count": 13,
     "metadata": {},
     "output_type": "execute_result"
    }
   ],
   "source": [
    "m = getorg.orgmap.create_map_obj()\n",
    "getorg.orgmap.output_html_cluster_map(location_dict, folder_name=\"../talkmap\", hashed_usernames=False)"
   ]
  },
  {
   "cell_type": "code",
   "execution_count": null,
   "metadata": {
    "collapsed": true
   },
   "outputs": [],
   "source": []
  }
 ],
 "metadata": {
  "anaconda-cloud": {},
  "kernelspec": {
   "display_name": "Python 2",
   "language": "python",
   "name": "python2"
  },
  "language_info": {
   "codemirror_mode": {
    "name": "ipython",
    "version": 2
   },
   "file_extension": ".py",
   "mimetype": "text/x-python",
   "name": "python",
   "nbconvert_exporter": "python",
   "pygments_lexer": "ipython2",
   "version": "2.7.13"
  }
 },
 "nbformat": 4,
 "nbformat_minor": 1
}
