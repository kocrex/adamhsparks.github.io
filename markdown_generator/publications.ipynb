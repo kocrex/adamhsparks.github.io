{
 "cells": [
  {
   "cell_type": "markdown",
   "metadata": {},
   "source": [
    "# Publications markdown generator for academicpages\n",
    "\n",
    "Takes a TSV of publications with metadata and converts them for use with [academicpages.github.io](academicpages.github.io). This is an interactive Jupyter notebook ([see more info here](http://jupyter-notebook-beginner-guide.readthedocs.io/en/latest/what_is_jupyter.html)). The core python code is also in `publications.py`. Run either from the `markdown_generator` folder after replacing `publications.tsv` with one containing your data.\n",
    "\n",
    "TODO: Make this work with BibTex and other databases of citations, rather than Stuart's non-standard TSV format and citation style.\n"
   ]
  },
  {
   "cell_type": "markdown",
   "metadata": {},
   "source": [
    "## Data format\n",
    "\n",
    "The TSV needs to have the following columns: pub_date, title, venue, excerpt, citation, site_url, and paper_url, with a header at the top. \n",
    "\n",
    "- `excerpt` and `paper_url` can be blank, but the others must have values. \n",
    "- `pub_date` must be formatted as YYYY-MM-DD.\n",
    "- `url_slug` will be the descriptive part of the .md file and the permalink URL for the page about the paper. The .md file will be `YYYY-MM-DD-[url_slug].md` and the permalink will be `https://[yourdomain]/publications/YYYY-MM-DD-[url_slug]`\n",
    "\n",
    "This is how the raw file looks (it doesn't look pretty, use a spreadsheet or other program to edit and create)."
   ]
  },
  {
   "cell_type": "code",
   "execution_count": 8,
   "metadata": {
    "scrolled": false
   },
   "outputs": [
    {
     "name": "stdout",
     "output_type": "stream",
     "text": [
      "pub_date\ttitle\tvenue\texcerpt\tcitation\turl_slug\tpaper_url\r\n",
      "2017/09\tbomrang: Fetch Australian Government Bureau of Meteorology Data in R\tThe Journal of Open Source Software\tThe Australian Bureau of Meteorology (BoM) publicly provides data via an anonymous FTP server, in XML and json files (Australian Bureau of Meteorology 2017). The files are well structured but knowledge of how to use R and parse them is required to extract the data into a data frame for use in R (R Core Team 2017) or requires external programs and scripting to import the data for use. bomrang provides functionality for automated retrieval and parsing of selected weather data files from BoM.\tSparks AH, Padgham M, Parsonage H and Pembleton K (2017). “bomrang: Fetch Australian Government Bureau of Meteorology Weather Data.” The Journal of Open Source Software, 2(17). doi: 10.21105/joss.00411.\tsparks_et_al_2017a\thttp://joss.theoj.org/papers/350bf005bded599e4b0f3ac2acf138e8\r\n",
      "2017/07/19\tMungbean and sorghum disease update\tGRDC Updates\t\tMungbean and Sorghum Disease Update, L Kelly, J White, M Sharman, H Brier, L Williams, R Grams, D Weir, A Mckay, AH Sparks, GRDC Updates (Jondaryan) (July 19, 2017). Jondaryan, Queensland, Australia\tkelly_et_al_2017\thttps://grdc.com.au/resources-and-publications/grdc-update-papers/tab-content/grdc-update-papers/2017/07/mungbean-and-sorghum-disease-update\r\n",
      "2015/12/19\tSpatial modelling of rice yield losses in Tanzania due to bacterial leaf blight and leaf blast in a changing climate\tClimatic Change\tRice is the most rapidly growing staple food in Africa and although rice production is steadily increasing, the consumption is still out-pacing the production. In Tanzania, two important diseases in rice production are leaf blast caused by Magnaporthe oryzae and bacterial leaf blight caused by Xanthomonas oryzae pv. oryzae. The objective of this study was to quantify rice yield losses due to these two important diseases under a changing climate. We found that bacterial leaf blight is predicted to increase causing greater losses than leaf blast in the future, with losses due to leaf blast declining. The results of this study indicate that the effects of climate change on plant disease can not only be expected to be uneven across diseases but also across geographies, as in some geographic areas losses increase but decrease in others for the same disease.\tSpatial modelling of rice yield losses in Tanzania due to bacterial leaf blight and leaf blast in a changing climate. C Duku, A H Sparks, S J Zwart. <i>Climatic Change</i> 135.3 (Jan. 2016) pp. 569–583. DOI: 10.1007/s10584-015-1580-2\tduku_et_al_2016\thttp://dx.doi.org/10.1007/s10584-015-1580-2\r\n",
      "2011/08/18\tA metamodeling framework for extending the application domain of process-based ecological models\tEcosphere\tProcess-based ecological models used to assess organisms' responses to environmental conditions often need input data at a high temporal resolution, e.g., hourly or daily weather data. Such input data may not be available at a high spatial resolution for large areas, limiting opportunities to use such models. Here we present a metamodeling framework to develop reduced form ecological models that use lower resolution input data than the original process models. We used generalized additive models to create metamodels for an existing model that uses hourly data to predict risk of potato late blight, caused by the plant pathogen Phytophthora infestans. The metamodels used daily or monthly weather data, and their predictions maintained the key features of the original model. This approach can be applied to other complex models, allowing them to be used more widely.\tA metamodeling framework for extending the application domain of process-based eco- logical models. A H Sparks, G A Forbes, R J Hijmans, K A Garrett. <i>Ecosphere</i> 2.8 (2011) art90. DOI: 10.1890/ES11-00128.1\tsparks_et_al_2011\tSparks_et_al-2011-Ecosphere.pdf\r\n",
      "2013/03/10\tA review on crop losses, epidemiology and disease management of rice brown spot to identify research priorities and knowledge gaps\tEuropean Journal of Plant Pathology\tRice brown spot (BS) is a chronic disease that affects millions of hectares of rice every growing season, grown by some of the most resource-poor farmers. Despite its widespread occurrence and impact, much still needs to be understood about BS. Reported yield losses in relative terms vary widely from 4 to 52 %. However, accurate, systematic estimates are lacking. BS is conventionally perceived as a secondary problem that reflects rice crops that experience physiological stresses, e.g. drought and poor soil fertility, rather than a true infectious disease. Much remains to be understood about the mechanisms leading to epidemics and crop losses. Quantitative and qualitative knowledge gaps exist in our understanding of the epidemiological processes, sources of resistance and biocontrol methods. In this review we identify several of these gaps, which if filled, could lead to a strong impact on the management of brown spot. We also use the architecture of a simulation model to position and prioritize these knowledge gaps, assess the epidemiological consequences of disease management options on BS monocyclic processes and explore the impact changing production situations on this important disease.\tA review on crop losses, epidemiology and disease management of rice brown spot to identify research priorities and knowledge gaps. M K Barnwal, A Kotasthane, N Magculia, P K Mukherjee, S Savary, A K Sharma, H B Singh, U S Singh, A H Sparks, M Variar, N Zaidi. <i>European Journal of Plant Pathology</i> 136.3 (2013) pp. 443–457. DOI: 10.1007/s10658-013-0195-6\tbarnwal_et_al_2013\tart%3A10.1007%2Fs10658-013-0195-6.pdf\r\n",
      "2017/03/17\tCrop health and its global impacts on the components of food security\tFood Security\tThe literature on the importance of plant pathogens sometimes emphasizes their possible role in historical food shortages and even in famines. Aside from such major crises, plant pathogens should also be seen as important reducers of crop performances, with impacts on system sustainability, from the ecological, agronomical, social, and economic standpoints – all contributing ultimately to affecting food security. These views need reconciliation in order to produce a clearer picture of the multidimensional effects of plant disease epidemics. Such a picture is needed for disease management today, but would also be useful for future policies. This article attempts to develop a framework that would enable assessment of the impacts of plant diseases, referred collectively to as crop health, on food security via its components. We have combined three different existing definitions of food security in order to develop a framework consisting of the following six components: (1) Availability. Primary production; (2) Availability. Import - Stockpiles; (3) Access. Physical and supply chain; (4) Access. Economic; (5) Stability of food availability; (6) Utility-Safety-Quality-Nutritive value. In this framework, components of food security are combined with three attributes of production situations: the nature of the considered crop (i.e. food- or non-food), the structure of farms (i.e. subsistence or commercial), and the structure of markets (i.e. weakly organized and local, to strongly organized and globalized). The resulting matrix: [Food security components] × [Attributes of production situations] provides a framework where the impacts of chronic, acute, and emerging plant disease epidemics on food security can be examined. We propose that, given the number of components and interactions at play, a systems modelling approach is required to address the functioning of food systems exposed to plant disease risks. This approach would have application in both the management of the current attrition of crop performances by plant diseases, and also of possible disease-induced shocks. Such an approach would also enable quantifying shifts in disease vulnerability of production situations, and therefore, of food systems, as a result of climate change, globalization, and evolving crop health.\tCrop health and its global impacts on the components of food security. S Savary, S Bregaglio, L Willocquet, D Gustafson, D Mason D’Croz, A Sparks, N Castilla, A Djurle, C Allinne, Mamta Sharma, V Rossi, L Amorim, A Bergamin, J Yuen, P Esker, Neil McRoberts, J Avelino, E Duveiller, J Koo, K Garrett. <i>Food Security</i> (Mar. 2017) pp. 1–17. DOI: 10.1007/s12571-017-0659-1\tsavary_et_al_2017\thttp://dx.doi.org/10.1007/s12571-017-0659-1\r\n",
      "2015/05/05\tDecision tools for bacterial blight resistance gene deployment in rice-based agricultural ecosystems\tFrontiers in Plant Science\tAttempting to achieve long-lasting and stable resistance using uniformly deployed rice varieties is not a sustainable approach. The real situation appears to be much more complex and dynamic, one in which pathogens quickly adapt to resistant varieties. To prevent disease epidemics, deployment should be customized and this decision will require interdisciplinary actions. This perspective article aims to highlight the current progress on disease resistance deployment to control bacterial blight in rice. Although the model system rice \\textit{Xanthomonas oryzae} pv. \\textit{oryzae} has distinctive features that underpin the need for a case-by-case analysis, strategies to integrate those elements into a unique decision tool could be easily extended to other crops.\tDecision tools for bacterial blight resistance gene deployment in rice-based agricultural ecosystems. S G Dossa, A H Sparks, C M Vera Cruz, R Oliva. <i>Frontiers in Plant Science</i> 6.305 (May 2015). DOI: 10.3389/ fpls.2015.00305\tdosa_et_al_2015\tfpls-06-00305.pdf\r\n",
      "2014/05/30\tClimate change may have limited effect on global risk of potato late blight\tGlobal Change Biology\tWeather affects the severity of many plant diseases, and climate change is likely to alter the patterns of crop disease severity. Evaluating possible future patterns can help focus crop breeding and disease management research. We examined the global effect of climate change on potato late blight, the disease that caused the Irish potato famine and still is a common potato disease around the world. We used a metamodel and considered three global climate models for the A2 greenhouse gas emission scenario for three 20-year time-slices: 2000–2019, 2040–2059 and 2080–2099. In addition to global analyses, five regions were evaluated where potato is an important crop: the Andean Highlands, Indo-Gangetic Plain and Himalayan Highlands, Southeast Asian Highlands, Ethiopian Highlands, and Lake Kivu Highlands in Sub-Saharan Africa. We found that the average global risk of potato late blight increases initially, when compared with historic climate data, and then declines as planting dates shift to cooler seasons. Risk in the agro-ecosystems analyzed, varied from a large increase in risk in the Lake Kivu Highlands in Rwanda to decreases in the Southeast Asian Highlands of Indonesia.\tClimate change may have limited effect on global risk of potato late blight. A H Sparks, G A Forbes, R J Hijmans, K A Garrett. <i>Global Change Biology</i> 20 (Dec. 2014) pp. 3621–3631. DOI: 10.1111/gcb.12587\tsparks_et_al_2014\t10.1111/gcb.12587\r\n",
      "2012/01/12\tTaking transgenic rice drought screening to the field\tJournal of Experimental Botany\tNumerous transgenes have been reported to increase rice drought resistance, mostly in small-scale experiments under vegetative-stage drought stress, but few studies have included grain yield or field evaluations. Different definitions of drought resistance are currently in use for field-based and laboratory evaluations of transgenics, the former emphasizing plant responses that may not be linked to yield under drought. Although those fundamental studies use efficient protocols to uncover and validate gene functions, screening conditions differ greatly from field drought environments where the onset of drought stress symptoms is slow (2-3 weeks). Simplified screening methods, including severely stressed survival studies, are therefore not likely to identify transgenic events with better yield performance under drought in the target environment. As biosafety regulations are becoming established to allow field trials in some rice-producing countries, there is a need to develop relevant screening procedures that scale from preliminary event selection to greenhouse and field trials. Multilocation testing in a range of drought environments may reveal that different transgenes are necessary for different types of drought-prone field conditions. We describe here a pipeline to improve the selection efficiency and reproducibility of results across drought treatments and test the potential of transgenic rice for the development of drought-resistant material for agricultural purposes.\tTaking transgenic rice drought screening to the field. A C M Gaudin, A Henry, A H Sparks, I H Slamet-Loedin. <i>Journal of Experimental Botany</i> 63.1 (2013) pp. 109–117. DOI: 10.1093/jxb/ers313\tgaudin_et_al_2012\ters313.pdf\r\n",
      "2009/11/01\tBeyond yield: plant disease in the context of ecosystem services.\tPhytopathology\tThe ecosystem services concept provides a means to define successful disease management more broadly, beyond short-term crop yield evaluations. Plant disease can affect ecosystem services directly, such as through removal of plants providing services, or indirectly through the effects of disease management activities, including pesticide applications, tillage, and other methods of plant removal. Increased plant biodiversity may reduce disease risk if susceptible host tissue becomes less common, or may increase risk if additional plant species are important in completing pathogen life cycles. Arthropod and microbial biodiversity may play similar roles. Distant ecosystems may provide a disservice as the setting for the evolution of pathogens that later invade a focal ecosystem, where plants have not evolved defenses. Conversely, distant ecosystems may provide a service as sources of genetic resources of great value to agriculture, including disease resistance genes. Good policies are needed to support conservation and optimal use of genetic resources, protect ecosystems from exotic pathogens, and limit the homogeneity of agricultural systems. Research is needed to provide policy makers, farmers, and consumers with the information required for evaluating trade-offs in the pursuit of the full range of ecosystem services desired from managed and native ecosystems.\tBeyond yield: plant disease in the context of ecosystem services. M R Cheatham, M N Rouse, P D Esker, S Ignacio, W Pradel, R Raymundo, A H Sparks, G A Forbes, T R Gordon, K A Garrett. <i>Phytopathology</i> 99.11 (2009) pp. 1228–36. DOI: 10.1094/PHYTO-99-11-1228\tcheatham_et_al_2009\tPHYTO-99-11-1228.pdf\r\n",
      "2011/10/01\tInternational agricultural research tackling the effects of global and climate changes on plant diseases in the developing world\tPlant Disease\tThe impacts of climate change on ecosystem services are complex in the sense that effective prediction requires consideration of a wide range of factors. Useful analysis of climate-change impacts on crops and native plant systems will often require consideration of the wide array of other biota that interact with plants, including plant diseases, animal herbivores, and weeds. We present a framework for analysis of complexity in climate-change effects mediated by plant disease. This framework can support evaluation of the level of model complexity likely to be required for analysing climate-change impacts mediated by disease. Our analysis incorporates consideration of the following set of questions for a particular host, pathogen, host–pathogen combination, or geographic region. 1. Are multiple biological interactions important? 2. Are there environmental thresholds for population responses? 3. Are there indirect effects of global change factors on disease development? 4. Are spatial components of epidemic processes affected by climate? 5. Are there feedback loops for management? 6. Are networks for intervention technologies slower than epidemic networks? 7. Are there effects of plant disease on multiple ecosystem services? 8. Are there feedback loops from plant disease to climate change? Evaluation of these questions will help in gauging system complexity, as illustrated for fusarium head blight and potato late blight. In practice, it may be necessary to expand models to include more components, identify those components that are the most important, and synthesize such models to include the optimal level of complexity for planning and research prioritization.\tInternational agricultural research tackling the effects of global and climate changes on plant diseases in the developing world. S Savary, A Nelson, A H Sparks, L Willocquet, E Duveiller, G Mahuku, G Forbes, K A Garrett, D Hodson, J Padgham, S Pande, M Sharma, J Yuen, A Djurle. <i>Plant Disease</i> 95.10 (2011) pp. 1204–1216. Scientific Societies. DOI: 10.1094/PDIS-04-11-0316\tsavary_et_al_2011\tPDIS-04-11-0316.pdf\r\n",
      "2011/01/10\tComplexity in climate-change impacts: an analytical framework for effects mediated by plant disease\tPlant Pathology\tThe impacts of climate change on ecosystem services are complex in the sense that effective prediction requires consideration of a wide range of factors. Useful analysis of climate-change impacts on crops and native plant systems will often require consideration of the wide array of other biota that interact with plants, including plant diseases, animal herbivores, and weeds. We present a framework for analysis of complexity in climate-change effects mediated by plant disease. This framework can support evaluation of the level of model complexity likely to be required for analysing climate-change impacts mediated by disease. Our analysis incorporates consideration of the following set of questions for a particular host, pathogen, host–pathogen combination, or geographic region. 1. Are multiple biological interactions important? 2. Are there environmental thresholds for population responses? 3. Are there indirect effects of global change factors on disease development? 4. Are spatial components of epidemic processes affected by climate? 5. Are there feedback loops for management? 6. Are networks for intervention technologies slower than epidemic networks? 7. Are there effects of plant disease on multiple ecosystem services? 8. Are there feedback loops from plant disease to climate change? Evaluation of these questions will help in gauging system complexity, as illustrated for fusarium head blight and potato late blight. In practice, it may be necessary to expand models to include more components, identify those components that are the most important, and synthesize such models to include the optimal level of complexity for planning and research prioritization.\tComplexity in climate-change impacts: an analytical framework for effects mediated by plant disease. K A Garrett, G A Forbes, S Savary, P Skelsey, A H Sparks, C Valdivia, A H C van Bruggen, L Willocquet, A Djurle, E Duveiller, H Eckersten, S Pande, C Vera Cruz, J Yuen. <i>Plant Pathology</i> 60.1 (2011) pp. 15–30. DOI: 10.1111/j.1365-3059.2010.02409.x\tgarrett_et_al_2011\tGarrett_et_al-2011-Plant_Pathology.pdf\r\n",
      "2015/08/28\tFarmers' preference for rice traits: Insights from farm surveys in Central Luzon, Philippines, 1966--2012\tPLOS ONE\tMany modern rice varieties (MVs) have been released but only a few have been widely adopted by farmers. To understand farmers’ preferences, we characterized MVs released in the Philippines from 1966 to 2013 and identified important characteristics of the varieties that were widely adopted in Central Luzon using farm surveys conducted in 1966–2012. We found that farmers adopt MVs that are high yielding, mature faster, and have long and slender grains, high milling recovery, and intermediate amylose content. The amylose content of adopted varieties has been declining, suggesting value in developing softer rice. To have a high potential for adoption, new MVs should have characteristics within the ranges of values observed for the adopted MVs. In addition, new MVs should have higher head rice recovery, less chalky grains, and better resistance to pests and diseases. Most MVs released in 2005–2013 compared poorly in these three traits. To reduce the risk of severe outbreaks, broad spectrum resistance should be incorporated into new MVs. This analysis of five decades of farm surveys provides insights into the varietal characteristics preferred by farmers which could contribute to the establishment of a product profile for developing improved MVs that are more targeted and, hence, would have high potential for adoption by farmers in Central Luzon and similar areas. We recommend a similar analysis be done in other major rice growing regions to aid the development of MVs that are more responsive to farmers’ needs and preferences.\tFarmers’ preference for rice traits: Insights from farm surveys in Central Luzon, Philippines, 1966–2012. A G Laborte, N C Paguirigan, P F Moya, A Nelson, A H Sparks, G B Gregorio. <i>PLOS ONE</i> e0136562 (July 2015). DOI:10.1371/journal.pone.0136562\tlaborte_et_al_2015\tjournal.pone.0136562.PDF\r\n",
      "2017/02/28\tGSODR: Global Summary Daily Weather Data in R\tThe Journal of Open Source Software\tThe GSODR package (Sparks, Hengl, and Nelson 2017) is an R package (R Core Team 2016) providing automated downloading, parsing and cleaning of Global Surface Summary of the Day (GSOD) (United States National Oceanic and Atmospheric Administration National Climatic Data Center 2016) weather data for use in R or saving as local files in either a Comma Separated Values (CSV) or GeoPackage (GPKG) (Open Geospatial Consortium 2014) file. It builds on or complements several other scripts and packages. We take advantage of modern techniques in R to make more efficient use of available computing resources to complete the process, e.g., data.table (Dowle et al. 2015), plyr (Wickham 2011) and readr (Wickham, Hester, and Francois 2016), which allow the data cleaning, conversions and disk input/output processes to function quickly and efficiently. The rnoaa (Chamberlain 2016) package already offers an excellent suite of tools for interacting with and downloading weather data from the United States National Oceanic and Atmospheric Administration, but lacks options for GSOD data retrieval. Several other APIs and R packages exist to access weather data, but most are region or continent specific, whereas GSOD is global. This package was developed to provide: two functions that simplify downloading GSOD data and formatting it to easily be used in research; and a function to help identify stations within a given radius of a point of interest.\tGSODR: Global Summary Daily Weather Data in R. Adam H Sparks, Tomislav Hengl, Andrew Nelson. <i>The Journal of Open Source Software</i> 2.10 (Feb. 2017). The Open Journal. DOI: 10.21105/ joss.00177\tsparks_et_al_2017\t10.21105.joss.00177.pdf\r\n",
      "2017/03/31\tgetCRUCLdata: Use and Explore CRU CL v. 2.0 Climatology Elements in R\tThe Journal of Open Source Software\tThe CRU CL v. 2.0 data are a gridded climatology of 1961-1990 monthly means released in 2002 and cover all land areas (excluding Antarctica) at 10 arcminutes (0.1666667 degree) resolution (New et al. 2002) providing precipitation, cv of precipitation, wet-days, mean temperature, mean diurnal temperature range, relative humidity, sunshine, ground-frost, windspeed and elevation. While these data have a high resolution and are freely available, the data format can be cumbersome for working with. Four functions are provided by getCRUCLdata that automate importing these data into R (R Core Team 2016). All of the functions facilitate the calculation of minimum temperature and maximum temperature, and format the data into a tidy data frame (Wickham 2014) in a tibble (Wickham, Francois, and Müller 2017) object or a list of raster stack objects (Hijmans 2016) for use in R or easily exported to a raster format file for use in a geographic information system (GIS). Two functions, get_CRU_df() and get_CRU_stack() provide the ability to easily download CRU CL v. 2.0 data from the CRU website and import the data into R and allow for caching downloaded data. The other two functions, create_CRU_df() and create_CRU_stack() allow the user to easily import the data files from a local disk location and transform them into a tidy data frame tibble or raster stack. The data have applications in applied climatology, biogeochemical modelling, hydrology and agricultural meteorology (New et al. 2002).\tgetCRUCLdata: Use and Explore CRU CL v. 2.0 Climatology Elements in R. Adam H Sparks. <i>The Journal of Open Source Software</i> 2.12 (Apr. 2017). The Open Journal. DOI: 10.21105/ joss.00230\tsparks_2017\t10.21105.joss.00230.pdf\r\n",
      "2012/12/31\tAn economic assessment of the impact of mango pulp weevil on the agricultural sector of Palawan, Philippines\tThe Philippine Agricultural Scientist\t\tAn economic assessment of the impact of mango pulp weevil on the agricultural sector of Palawan, Philippines. J D Mckinley, A H Sparks, V O Pede, B Duff. <i>The Philippine Agricultural Scientist</i> 95.3 (2012) pp. 286–292\tmckinley_et_al_2012\t\r\n",
      "2007/12/31\tEcology and epidemiology in R: modeling dispersal gradients\tThe Plant Health Instructor\t\tEcology and epidemiology in R: modeling dispersal gradients. P D Esker, A H Sparks, G Antony, M Bates, W Dall’Acqua, E E Frank, L Huebel, V Segovia, K A Garrett. <i>The Plant Health Instructor</i> (2007). DOI: 10.1094/PHI-A-2007-1226-03\tesker_et_al_2007a\thttp://dx.doi.org/10.1094/PHI-A-2007-1226-03\r\n",
      "2008/12/31\tEcology and epidemiology in R: disease forecasting\tThe Plant Health Instructor\t\tEcology and epidemiology in R: disease forecasting. P D Esker, A H Sparks, L Campbell, Z Guo, M Rouse, S D Silwal, S Tolos, B Van Allen, K A Garrett. <i>The Plant Health Instructor</i> (2008). DOI: 10.1094/PHI-A-2008-0129-01\tesker_et_al_2007b\thttp://dx.doi.org/10.1094/PHI-A-2008-0129-01\r\n",
      "2007/12/31\tWriting teaching documents as a class project\tThe Plant Health Instructor\t\tWriting teaching documents as a class project. K A Garrett, P D Esker, A H Sparks, L C Scharmann. <i>The Plant Health Instructor</i> (2007). DOI: 10.1094/PHI-T-2007-1226-01\tgarrett_et_al_2007\thttp://dx.doi.org/10.1094/PHI-T-2007-1226-01\r\n",
      "2007/12/31\tIntroduction to the R programming environment\tThe Plant Health Instructor\t\tIntroduction to the R programming environment. K A Garrett, P D Esker, A H Sparks. <i>The Plant Health Instructor</i> (2007). DOI: 10.1094/PHI-A-2007-1226-02\tgarrett_et_al_2007\thttp://dx.doi.org/10.1094/PHI-A-2007-1226-02\r\n",
      "2008/12/31\tEcology and epidemiology in R: spatial analysis\tThe Plant Health Instructor\t\tEcology and epidemiology in R: spatial analysis. A H Sparks, P D Esker, G Antony, L Campbell, E E Frank, L Huebel, M N Rouse, B Van Allen, K A Garrett. <i>The Plant Health Instructor</i> (2008). DOI: 10.1094/PHI-A-2008-0129-03\tsparks_et_al_2008a\thttp://dx.doi.org/10.1094/PHI-A-2008-0129-03\r\n",
      "2008/12/31\tEcology and epidemiology in R: modeling plant disease progress over time\tThe Plant Health Instructor\t\tEcology and epidemiology in R: modeling plant disease progress over time. A H Sparks, P D Esker, M Bates, W Dall’Acqua, Z Guo, V Segovia, S D Silwal, S Tolos, K A Garrett. <i>The Plant Health Instructor</i> (2008). DOI: 10.1094/PHI-A-2008-0129-02\tsparks_et_al_2008b\thttp://dx.doi.org/10.1094/PHI-A-2008-0129-02\r\n"
     ]
    }
   ],
   "source": [
    "!cat publications.tsv"
   ]
  },
  {
   "cell_type": "markdown",
   "metadata": {},
   "source": [
    "## Import pandas\n",
    "\n",
    "We are using the very handy pandas library for dataframes."
   ]
  },
  {
   "cell_type": "code",
   "execution_count": 2,
   "metadata": {},
   "outputs": [
    {
     "ename": "ImportError",
     "evalue": "Missing required dependencies ['numpy']",
     "output_type": "error",
     "traceback": [
      "\u001b[0;31m---------------------------------------------------------------------------\u001b[0m",
      "\u001b[0;31mImportError\u001b[0m                               Traceback (most recent call last)",
      "\u001b[0;32m<ipython-input-2-af55e7023913>\u001b[0m in \u001b[0;36m<module>\u001b[0;34m()\u001b[0m\n\u001b[0;32m----> 1\u001b[0;31m \u001b[0;32mimport\u001b[0m \u001b[0mpandas\u001b[0m \u001b[0;32mas\u001b[0m \u001b[0mpd\u001b[0m\u001b[0;34m\u001b[0m\u001b[0m\n\u001b[0m",
      "\u001b[0;32m/usr/local/lib/python2.7/site-packages/pandas/__init__.py\u001b[0m in \u001b[0;36m<module>\u001b[0;34m()\u001b[0m\n\u001b[1;32m     17\u001b[0m \u001b[0;32mif\u001b[0m \u001b[0mmissing_dependencies\u001b[0m\u001b[0;34m:\u001b[0m\u001b[0;34m\u001b[0m\u001b[0m\n\u001b[1;32m     18\u001b[0m     raise ImportError(\n\u001b[0;32m---> 19\u001b[0;31m         \"Missing required dependencies {0}\".format(missing_dependencies))\n\u001b[0m\u001b[1;32m     20\u001b[0m \u001b[0;32mdel\u001b[0m \u001b[0mhard_dependencies\u001b[0m\u001b[0;34m,\u001b[0m \u001b[0mdependency\u001b[0m\u001b[0;34m,\u001b[0m \u001b[0mmissing_dependencies\u001b[0m\u001b[0;34m\u001b[0m\u001b[0m\n\u001b[1;32m     21\u001b[0m \u001b[0;34m\u001b[0m\u001b[0m\n",
      "\u001b[0;31mImportError\u001b[0m: Missing required dependencies ['numpy']"
     ]
    }
   ],
   "source": [
    "import pandas as pd"
   ]
  },
  {
   "cell_type": "markdown",
   "metadata": {},
   "source": [
    "## Import TSV\n",
    "\n",
    "Pandas makes this easy with the read_csv function. We are using a TSV, so we specify the separator as a tab, or `\\t`.\n",
    "\n",
    "I found it important to put this data in a tab-separated values format, because there are a lot of commas in this kind of data and comma-separated values can get messed up. However, you can modify the import statement, as pandas also has read_excel(), read_json(), and others."
   ]
  },
  {
   "cell_type": "code",
   "execution_count": 3,
   "metadata": {},
   "outputs": [
    {
     "ename": "NameError",
     "evalue": "name 'pd' is not defined",
     "output_type": "error",
     "traceback": [
      "\u001b[0;31m---------------------------------------------------------------------------\u001b[0m",
      "\u001b[0;31mNameError\u001b[0m                                 Traceback (most recent call last)",
      "\u001b[0;32m<ipython-input-3-e7f9c60709bc>\u001b[0m in \u001b[0;36m<module>\u001b[0;34m()\u001b[0m\n\u001b[0;32m----> 1\u001b[0;31m \u001b[0mpublications\u001b[0m \u001b[0;34m=\u001b[0m \u001b[0mpd\u001b[0m\u001b[0;34m.\u001b[0m\u001b[0mread_csv\u001b[0m\u001b[0;34m(\u001b[0m\u001b[0;34m\"publications.tsv\"\u001b[0m\u001b[0;34m,\u001b[0m \u001b[0msep\u001b[0m\u001b[0;34m=\u001b[0m\u001b[0;34m\"\\t\"\u001b[0m\u001b[0;34m,\u001b[0m \u001b[0mheader\u001b[0m\u001b[0;34m=\u001b[0m\u001b[0;36m0\u001b[0m\u001b[0;34m)\u001b[0m\u001b[0;34m\u001b[0m\u001b[0m\n\u001b[0m\u001b[1;32m      2\u001b[0m \u001b[0mpublications\u001b[0m\u001b[0;34m\u001b[0m\u001b[0m\n",
      "\u001b[0;31mNameError\u001b[0m: name 'pd' is not defined"
     ]
    }
   ],
   "source": [
    "publications = pd.read_csv(\"publications.tsv\", sep=\"\\t\", header=0)\n",
    "publications\n"
   ]
  },
  {
   "cell_type": "markdown",
   "metadata": {},
   "source": [
    "## Escape special characters\n",
    "\n",
    "YAML is very picky about how it takes a valid string, so we are replacing single and double quotes (and ampersands) with their HTML encoded equivilents. This makes them look not so readable in raw format, but they are parsed and rendered nicely."
   ]
  },
  {
   "cell_type": "code",
   "execution_count": 4,
   "metadata": {
    "collapsed": true
   },
   "outputs": [],
   "source": [
    "html_escape_table = {\n",
    "    \"&\": \"&amp;\",\n",
    "    '\"': \"&quot;\",\n",
    "    \"'\": \"&apos;\"\n",
    "    }\n",
    "\n",
    "def html_escape(text):\n",
    "    \"\"\"Produce entities within text.\"\"\"\n",
    "    return \"\".join(html_escape_table.get(c,c) for c in text)"
   ]
  },
  {
   "cell_type": "markdown",
   "metadata": {},
   "source": [
    "## Creating the markdown files\n",
    "\n",
    "This is where the heavy lifting is done. This loops through all the rows in the TSV dataframe, then starts to concatentate a big string (```md```) that contains the markdown for each type. It does the YAML metadata first, then does the description for the individual page."
   ]
  },
  {
   "cell_type": "code",
   "execution_count": 5,
   "metadata": {},
   "outputs": [
    {
     "ename": "NameError",
     "evalue": "name 'publications' is not defined",
     "output_type": "error",
     "traceback": [
      "\u001b[0;31m---------------------------------------------------------------------------\u001b[0m",
      "\u001b[0;31mNameError\u001b[0m                                 Traceback (most recent call last)",
      "\u001b[0;32m<ipython-input-5-113fef312510>\u001b[0m in \u001b[0;36m<module>\u001b[0;34m()\u001b[0m\n\u001b[1;32m      1\u001b[0m \u001b[0;32mimport\u001b[0m \u001b[0mos\u001b[0m\u001b[0;34m\u001b[0m\u001b[0m\n\u001b[0;32m----> 2\u001b[0;31m \u001b[0;32mfor\u001b[0m \u001b[0mrow\u001b[0m\u001b[0;34m,\u001b[0m \u001b[0mitem\u001b[0m \u001b[0;32min\u001b[0m \u001b[0mpublications\u001b[0m\u001b[0;34m.\u001b[0m\u001b[0miterrows\u001b[0m\u001b[0;34m(\u001b[0m\u001b[0;34m)\u001b[0m\u001b[0;34m:\u001b[0m\u001b[0;34m\u001b[0m\u001b[0m\n\u001b[0m\u001b[1;32m      3\u001b[0m \u001b[0;34m\u001b[0m\u001b[0m\n\u001b[1;32m      4\u001b[0m     \u001b[0mmd_filename\u001b[0m \u001b[0;34m=\u001b[0m \u001b[0mstr\u001b[0m\u001b[0;34m(\u001b[0m\u001b[0mitem\u001b[0m\u001b[0;34m.\u001b[0m\u001b[0mpub_date\u001b[0m\u001b[0;34m)\u001b[0m \u001b[0;34m+\u001b[0m \u001b[0;34m\"-\"\u001b[0m \u001b[0;34m+\u001b[0m \u001b[0mitem\u001b[0m\u001b[0;34m.\u001b[0m\u001b[0murl_slug\u001b[0m \u001b[0;34m+\u001b[0m \u001b[0;34m\".md\"\u001b[0m\u001b[0;34m\u001b[0m\u001b[0m\n\u001b[1;32m      5\u001b[0m     \u001b[0mhtml_filename\u001b[0m \u001b[0;34m=\u001b[0m \u001b[0mstr\u001b[0m\u001b[0;34m(\u001b[0m\u001b[0mitem\u001b[0m\u001b[0;34m.\u001b[0m\u001b[0mpub_date\u001b[0m\u001b[0;34m)\u001b[0m \u001b[0;34m+\u001b[0m \u001b[0;34m\"-\"\u001b[0m \u001b[0;34m+\u001b[0m \u001b[0mitem\u001b[0m\u001b[0;34m.\u001b[0m\u001b[0murl_slug\u001b[0m\u001b[0;34m\u001b[0m\u001b[0m\n",
      "\u001b[0;31mNameError\u001b[0m: name 'publications' is not defined"
     ]
    }
   ],
   "source": [
    "import os\n",
    "for row, item in publications.iterrows():\n",
    "    \n",
    "    md_filename = str(item.pub_date) + \"-\" + item.url_slug + \".md\"\n",
    "    html_filename = str(item.pub_date) + \"-\" + item.url_slug\n",
    "    year = item.pub_date[:4]\n",
    "    \n",
    "    ## YAML variables\n",
    "    \n",
    "    md = \"---\\ntitle: \\\"\"   + item.title + '\"\\n'\n",
    "    \n",
    "    md += \"\"\"collection: publications\"\"\"\n",
    "    \n",
    "    md += \"\"\"\\npermalink: /publication/\"\"\" + html_filename\n",
    "    \n",
    "    if len(str(item.excerpt)) > 5:\n",
    "        md += \"\\nexcerpt: '\" + html_escape(item.excerpt) + \"'\"\n",
    "    \n",
    "    md += \"\\ndate: \" + str(item.pub_date) \n",
    "    \n",
    "    md += \"\\nvenue: '\" + html_escape(item.venue) + \"'\"\n",
    "    \n",
    "    if len(str(item.paper_url)) > 5:\n",
    "        md += \"\\npaperurl: '\" + item.paper_url + \"'\"\n",
    "    \n",
    "    md += \"\\ncitation: '\" + html_escape(item.citation) + \"'\"\n",
    "    \n",
    "    md += \"\\n---\"\n",
    "    \n",
    "    ## Markdown description for individual page\n",
    "        \n",
    "    if len(str(item.excerpt)) > 5:\n",
    "        md += \"\\n\" + html_escape(item.excerpt) + \"\\n\"\n",
    "    \n",
    "    if len(str(item.paper_url)) > 5:\n",
    "        md += \"\\n[Download paper here](\" + item.paper_url + \")\\n\" \n",
    "        \n",
    "    md += \"\\nRecommended citation: \" + item.citation\n",
    "    \n",
    "    md_filename = os.path.basename(md_filename)\n",
    "       \n",
    "    with open(\"../_publications/\" + md_filename, 'w') as f:\n",
    "        f.write(md)"
   ]
  },
  {
   "cell_type": "markdown",
   "metadata": {},
   "source": [
    "These files are in the publications directory, one directory below where we're working from."
   ]
  },
  {
   "cell_type": "code",
   "execution_count": 6,
   "metadata": {},
   "outputs": [
    {
     "name": "stdout",
     "output_type": "stream",
     "text": [
      "01-cheatham_et_al_2009.md 18-sparks_et_al_2011.md   31-esker_et_al_2007b.md\r\n",
      "01-savary_et_al_2011.md   19-duku_et_al_2016.md     31-garrett_et_al_2007.md\r\n",
      "05-dosa_et_al_2015.md     19-kelly_et_al_2017.md    31-mckinley_et_al_2012.md\r\n",
      "10-barnwal_et_al_2013.md  28-laborte_et_al_2015.md  31-sparks_2017.md\r\n",
      "10-garrett_et_al_2011.md  28-sparks_et_al_2017.md   31-sparks_et_al_2008a.md\r\n",
      "12-gaudin_et_al_2012.md   30-sparks_et_al_2014.md   31-sparks_et_al_2008b.md\r\n",
      "17-savary_et_al_2017.md   31-esker_et_al_2007a.md\r\n"
     ]
    }
   ],
   "source": [
    "!ls ../_publications/"
   ]
  },
  {
   "cell_type": "code",
   "execution_count": 7,
   "metadata": {},
   "outputs": [
    {
     "name": "stdout",
     "output_type": "stream",
     "text": [
      "cat: ../_publications/2009-10-01-paper-title-number-1.md: No such file or directory\r\n"
     ]
    }
   ],
   "source": [
    "!cat ../_publications/2009-10-01-paper-title-number-1.md"
   ]
  },
  {
   "cell_type": "code",
   "execution_count": null,
   "metadata": {
    "collapsed": true
   },
   "outputs": [],
   "source": []
  },
  {
   "cell_type": "code",
   "execution_count": null,
   "metadata": {
    "collapsed": true
   },
   "outputs": [],
   "source": []
  },
  {
   "cell_type": "code",
   "execution_count": null,
   "metadata": {
    "collapsed": true
   },
   "outputs": [],
   "source": []
  },
  {
   "cell_type": "code",
   "execution_count": null,
   "metadata": {
    "collapsed": true
   },
   "outputs": [],
   "source": []
  },
  {
   "cell_type": "code",
   "execution_count": null,
   "metadata": {
    "collapsed": true
   },
   "outputs": [],
   "source": []
  },
  {
   "cell_type": "code",
   "execution_count": null,
   "metadata": {
    "collapsed": true
   },
   "outputs": [],
   "source": []
  }
 ],
 "metadata": {
  "kernelspec": {
   "display_name": "Python 2",
   "language": "python",
   "name": "python2"
  },
  "language_info": {
   "codemirror_mode": {
    "name": "ipython",
    "version": 2
   },
   "file_extension": ".py",
   "mimetype": "text/x-python",
   "name": "python",
   "nbconvert_exporter": "python",
   "pygments_lexer": "ipython2",
   "version": "2.7.14"
  }
 },
 "nbformat": 4,
 "nbformat_minor": 1
}
